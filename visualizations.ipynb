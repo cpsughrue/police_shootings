{
 "cells": [
  {
   "cell_type": "code",
   "execution_count": null,
   "metadata": {},
   "outputs": [],
   "source": [
    "import pandas as pd\n",
    "import matplotlib.pyplot as plt\n",
    "import matplotlib.patches as mpatches\n",
    "import numpy as np"
   ]
  },
  {
   "cell_type": "code",
   "execution_count": null,
   "metadata": {},
   "outputs": [],
   "source": [
    "def census_age_array():\n",
    "    '''\n",
    "    '''\n",
    "    census_age = pd.read_csv(\"./final_data/census_age.csv\")\n",
    "    census_age['count'] = np.ceil(census_age['count'] / 1000).astype(int)\n",
    "    \n",
    "    totalPopulation = sum(census_age.loc[:, 'count'])\n",
    "    array = np.full(totalPopulation, np.nan)\n",
    "    \n",
    "    index = 0\n",
    "\n",
    "    for row in census_age.values:\n",
    "        age = row[0]\n",
    "        freq = row[1]\n",
    "\n",
    "        temp = np.repeat(age, freq)\n",
    "        array[index:index + freq] = temp\n",
    "        index = index + freq\n",
    "        \n",
    "    return pd.Series(array)"
   ]
  }
 ],
 "metadata": {
  "language_info": {
   "name": "python"
  },
  "orig_nbformat": 4
 },
 "nbformat": 4,
 "nbformat_minor": 2
}
