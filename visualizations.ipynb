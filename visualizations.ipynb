{
 "cells": [
  {
   "cell_type": "code",
   "execution_count": null,
   "metadata": {},
   "outputs": [],
   "source": [
    "import pandas as pd\n",
    "import matplotlib.pyplot as plt\n",
    "import matplotlib.patches as mpatches\n",
    "import numpy as np"
   ]
  },
  {
   "cell_type": "code",
   "execution_count": null,
   "metadata": {},
   "outputs": [],
   "source": [
    "def census_age_array(path = \"./data/census_age.csv\"):\n",
    "    '''\n",
    "    create array of integers that represent age distribution of US population\n",
    "    array will be used to plot kernel density estimation of US population's age\n",
    "    '''\n",
    "    # load data and scale down count to decrease number of data points\n",
    "    census_age = pd.read_csv(path)\n",
    "    census_age[\"count\"] = np.ceil(census_age[\"count\"] / 1000).astype(int)\n",
    "    \n",
    "    # create empty array with length of integer total_population\n",
    "    total_population = sum(census_age.loc[:, 'count'])\n",
    "    array = np.full(total_population, np.nan)\n",
    "    \n",
    "    # fill in array with ages\n",
    "    index = 0\n",
    "    for row in census_age.values:\n",
    "        age, freq = row[0], row[1]\n",
    "        temp = np.repeat(age, freq)\n",
    "        array[index:index + freq] = temp\n",
    "        index = index + freq\n",
    "    \n",
    "    # convert to pandas Series for use with matplotlib\n",
    "    return pd.Series(array)"
   ]
  }
 ],
 "metadata": {
  "interpreter": {
   "hash": "c1528431227c108eea09a37e78d738e5caf84090a06126d43837ad70575b07e9"
  },
  "kernelspec": {
   "display_name": "Python 3.9.1 64-bit ('base': conda)",
   "language": "python",
   "name": "python3"
  },
  "language_info": {
   "codemirror_mode": {
    "name": "ipython",
    "version": 3
   },
   "file_extension": ".py",
   "mimetype": "text/x-python",
   "name": "python",
   "nbconvert_exporter": "python",
   "pygments_lexer": "ipython3",
   "version": "3.9.1"
  },
  "orig_nbformat": 4
 },
 "nbformat": 4,
 "nbformat_minor": 2
}
